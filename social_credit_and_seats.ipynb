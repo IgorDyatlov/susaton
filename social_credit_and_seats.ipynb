{
 "cells": [
  {
   "cell_type": "code",
   "execution_count": 21,
   "id": "9ced435b",
   "metadata": {},
   "outputs": [
    {
     "name": "stdout",
     "output_type": "stream",
     "text": [
      "Requirement already satisfied: pandas in c:\\users\\student\\appdata\\local\\programs\\python\\python39\\lib\\site-packages (1.2.4)\n",
      "Requirement already satisfied: pytz>=2017.3 in c:\\users\\student\\appdata\\local\\programs\\python\\python39\\lib\\site-packages (from pandas) (2021.1)\n",
      "Requirement already satisfied: python-dateutil>=2.7.3 in c:\\users\\student\\appdata\\local\\programs\\python\\python39\\lib\\site-packages (from pandas) (2.8.1)\n",
      "Requirement already satisfied: numpy>=1.16.5 in c:\\users\\student\\appdata\\local\\programs\\python\\python39\\lib\\site-packages (from pandas) (1.20.3)\n",
      "Requirement already satisfied: six>=1.5 in c:\\users\\student\\appdata\\local\\programs\\python\\python39\\lib\\site-packages (from python-dateutil>=2.7.3->pandas) (1.16.0)\n",
      "Requirement already satisfied: xlrd in c:\\users\\student\\appdata\\local\\programs\\python\\python39\\lib\\site-packages (2.0.1)\n",
      "Requirement already satisfied: openpyxl in c:\\users\\student\\appdata\\local\\programs\\python\\python39\\lib\\site-packages (3.0.7)\n",
      "Requirement already satisfied: et-xmlfile in c:\\users\\student\\appdata\\local\\programs\\python\\python39\\lib\\site-packages (from openpyxl) (1.1.0)\n",
      "Requirement already satisfied: matplotlib in c:\\users\\student\\appdata\\local\\programs\\python\\python39\\lib\\site-packages (3.4.2)\n",
      "Requirement already satisfied: cycler>=0.10 in c:\\users\\student\\appdata\\local\\programs\\python\\python39\\lib\\site-packages (from matplotlib) (0.10.0)\n",
      "Requirement already satisfied: kiwisolver>=1.0.1 in c:\\users\\student\\appdata\\local\\programs\\python\\python39\\lib\\site-packages (from matplotlib) (1.3.1)\n",
      "Requirement already satisfied: python-dateutil>=2.7 in c:\\users\\student\\appdata\\local\\programs\\python\\python39\\lib\\site-packages (from matplotlib) (2.8.1)\n",
      "Requirement already satisfied: numpy>=1.16 in c:\\users\\student\\appdata\\local\\programs\\python\\python39\\lib\\site-packages (from matplotlib) (1.20.3)\n",
      "Requirement already satisfied: pyparsing>=2.2.1 in c:\\users\\student\\appdata\\local\\programs\\python\\python39\\lib\\site-packages (from matplotlib) (2.4.7)\n",
      "Requirement already satisfied: pillow>=6.2.0 in c:\\users\\student\\appdata\\local\\programs\\python\\python39\\lib\\site-packages (from matplotlib) (8.2.0)\n",
      "Requirement already satisfied: six in c:\\users\\student\\appdata\\local\\programs\\python\\python39\\lib\\site-packages (from cycler>=0.10->matplotlib) (1.16.0)\n",
      "Requirement already satisfied: seaborn in c:\\users\\student\\appdata\\local\\programs\\python\\python39\\lib\\site-packages (0.11.1)\n",
      "Requirement already satisfied: matplotlib>=2.2 in c:\\users\\student\\appdata\\local\\programs\\python\\python39\\lib\\site-packages (from seaborn) (3.4.2)\n",
      "Requirement already satisfied: numpy>=1.15 in c:\\users\\student\\appdata\\local\\programs\\python\\python39\\lib\\site-packages (from seaborn) (1.20.3)\n",
      "Requirement already satisfied: pandas>=0.23 in c:\\users\\student\\appdata\\local\\programs\\python\\python39\\lib\\site-packages (from seaborn) (1.2.4)\n",
      "Requirement already satisfied: scipy>=1.0 in c:\\users\\student\\appdata\\local\\programs\\python\\python39\\lib\\site-packages (from seaborn) (1.6.3)\n",
      "Requirement already satisfied: pyparsing>=2.2.1 in c:\\users\\student\\appdata\\local\\programs\\python\\python39\\lib\\site-packages (from matplotlib>=2.2->seaborn) (2.4.7)\n",
      "Requirement already satisfied: pillow>=6.2.0 in c:\\users\\student\\appdata\\local\\programs\\python\\python39\\lib\\site-packages (from matplotlib>=2.2->seaborn) (8.2.0)\n",
      "Requirement already satisfied: python-dateutil>=2.7 in c:\\users\\student\\appdata\\local\\programs\\python\\python39\\lib\\site-packages (from matplotlib>=2.2->seaborn) (2.8.1)\n",
      "Requirement already satisfied: cycler>=0.10 in c:\\users\\student\\appdata\\local\\programs\\python\\python39\\lib\\site-packages (from matplotlib>=2.2->seaborn) (0.10.0)\n",
      "Requirement already satisfied: kiwisolver>=1.0.1 in c:\\users\\student\\appdata\\local\\programs\\python\\python39\\lib\\site-packages (from matplotlib>=2.2->seaborn) (1.3.1)\n",
      "Requirement already satisfied: six in c:\\users\\student\\appdata\\local\\programs\\python\\python39\\lib\\site-packages (from cycler>=0.10->matplotlib>=2.2->seaborn) (1.16.0)\n",
      "Requirement already satisfied: pytz>=2017.3 in c:\\users\\student\\appdata\\local\\programs\\python\\python39\\lib\\site-packages (from pandas>=0.23->seaborn) (2021.1)\n"
     ]
    }
   ],
   "source": [
    "!pip install pandas\n",
    "!pip install xlrd\n",
    "!pip install openpyxl\n",
    "!pip install matplotlib\n",
    "!pip install seaborn"
   ]
  },
  {
   "cell_type": "code",
   "execution_count": 22,
   "id": "598b6a14",
   "metadata": {},
   "outputs": [],
   "source": [
    "import pandas as pd\n",
    "import matplotlib.pyplot as plt\n",
    "import seaborn as sns"
   ]
  },
  {
   "cell_type": "code",
   "execution_count": 23,
   "id": "49188d9a",
   "metadata": {},
   "outputs": [
    {
     "name": "stdout",
     "output_type": "stream",
     "text": [
      "17225\n",
      "17225\n"
     ]
    }
   ],
   "source": [
    "df = pd.read_excel('food_band.xlsx')\n",
    "print(len(df))\n",
    "df = df.drop_duplicates()\n",
    "print(len(df))"
   ]
  },
  {
   "cell_type": "code",
   "execution_count": 24,
   "id": "aa9e9c80",
   "metadata": {},
   "outputs": [
    {
     "data": {
      "text/html": [
       "<div>\n",
       "<style scoped>\n",
       "    .dataframe tbody tr th:only-of-type {\n",
       "        vertical-align: middle;\n",
       "    }\n",
       "\n",
       "    .dataframe tbody tr th {\n",
       "        vertical-align: top;\n",
       "    }\n",
       "\n",
       "    .dataframe thead th {\n",
       "        text-align: right;\n",
       "    }\n",
       "</style>\n",
       "<table border=\"1\" class=\"dataframe\">\n",
       "  <thead>\n",
       "    <tr style=\"text-align: right;\">\n",
       "      <th></th>\n",
       "      <th>Name</th>\n",
       "      <th>IsNetObject</th>\n",
       "      <th>OperatingCompany</th>\n",
       "      <th>TypeObject</th>\n",
       "      <th>AdmArea</th>\n",
       "      <th>District</th>\n",
       "      <th>Address</th>\n",
       "      <th>PublicPhone</th>\n",
       "      <th>SeatsCount</th>\n",
       "      <th>SocialPrivileges</th>\n",
       "      <th>geoData</th>\n",
       "      <th>global_id</th>\n",
       "    </tr>\n",
       "  </thead>\n",
       "  <tbody>\n",
       "    <tr>\n",
       "      <th>0</th>\n",
       "      <td>СМЕТАНА</td>\n",
       "      <td>нет</td>\n",
       "      <td>NaN</td>\n",
       "      <td>кафе</td>\n",
       "      <td>Северо-Восточный административный округ</td>\n",
       "      <td>Ярославский район</td>\n",
       "      <td>город Москва, улица Егора Абакумова, дом 9</td>\n",
       "      <td>Контактный телефон: (499) 183-14-10</td>\n",
       "      <td>48</td>\n",
       "      <td>нет</td>\n",
       "      <td>Геоданные: ↴\\nКоординаты: [\\n  37.714565000436...</td>\n",
       "      <td>637376221</td>\n",
       "    </tr>\n",
       "    <tr>\n",
       "      <th>1</th>\n",
       "      <td>Родник</td>\n",
       "      <td>нет</td>\n",
       "      <td>NaN</td>\n",
       "      <td>кафе</td>\n",
       "      <td>Центральный административный округ</td>\n",
       "      <td>Таганский район</td>\n",
       "      <td>город Москва, улица Талалихина, дом 2/1, корпус 1</td>\n",
       "      <td>Контактный телефон: (495) 676-55-35</td>\n",
       "      <td>35</td>\n",
       "      <td>нет</td>\n",
       "      <td>Геоданные: ↴\\nКоординаты: [\\n  37.673306130034...</td>\n",
       "      <td>637376331</td>\n",
       "    </tr>\n",
       "    <tr>\n",
       "      <th>2</th>\n",
       "      <td>Кафе «Академия»</td>\n",
       "      <td>нет</td>\n",
       "      <td>NaN</td>\n",
       "      <td>кафе</td>\n",
       "      <td>Центральный административный округ</td>\n",
       "      <td>Таганский район</td>\n",
       "      <td>город Москва, Абельмановская улица, дом 6</td>\n",
       "      <td>Контактный телефон: (495) 662-30-10</td>\n",
       "      <td>95</td>\n",
       "      <td>нет</td>\n",
       "      <td>Геоданные: ↴\\nКоординаты: [\\n  37.669647596938...</td>\n",
       "      <td>637376349</td>\n",
       "    </tr>\n",
       "    <tr>\n",
       "      <th>3</th>\n",
       "      <td>ГБОУ «Школа № 1430 имени Героя Социалистическо...</td>\n",
       "      <td>нет</td>\n",
       "      <td>NaN</td>\n",
       "      <td>столовая</td>\n",
       "      <td>Северо-Восточный административный округ</td>\n",
       "      <td>район Лианозово</td>\n",
       "      <td>город Москва, Угличская улица, дом 17</td>\n",
       "      <td>Контактный телефон: (499) 908-06-15</td>\n",
       "      <td>240</td>\n",
       "      <td>нет</td>\n",
       "      <td>Геоданные: ↴\\nКоординаты: [\\n  37.56694,\\n  55...</td>\n",
       "      <td>637376480</td>\n",
       "    </tr>\n",
       "    <tr>\n",
       "      <th>4</th>\n",
       "      <td>Брусника</td>\n",
       "      <td>да</td>\n",
       "      <td>Брусника</td>\n",
       "      <td>кафе</td>\n",
       "      <td>Центральный административный округ</td>\n",
       "      <td>район Арбат</td>\n",
       "      <td>город Москва, переулок Сивцев Вражек, дом 6/2</td>\n",
       "      <td>Контактный телефон: (495) 697-04-89</td>\n",
       "      <td>10</td>\n",
       "      <td>нет</td>\n",
       "      <td>Геоданные: ↴\\nКоординаты: [\\n  37.59812754844,...</td>\n",
       "      <td>637376481</td>\n",
       "    </tr>\n",
       "    <tr>\n",
       "      <th>5</th>\n",
       "      <td>Буфет МТУСИ</td>\n",
       "      <td>нет</td>\n",
       "      <td>NaN</td>\n",
       "      <td>столовая</td>\n",
       "      <td>Юго-Восточный административный округ</td>\n",
       "      <td>район Лефортово</td>\n",
       "      <td>город Москва, Авиамоторная улица, дом 8, строе...</td>\n",
       "      <td>Контактный телефон: (495) 673-89-78</td>\n",
       "      <td>90</td>\n",
       "      <td>нет</td>\n",
       "      <td>Геоданные: ↴\\nКоординаты: [\\n  37.715425391898...</td>\n",
       "      <td>637376500</td>\n",
       "    </tr>\n",
       "    <tr>\n",
       "      <th>6</th>\n",
       "      <td>Столовая МТУСИ</td>\n",
       "      <td>нет</td>\n",
       "      <td>NaN</td>\n",
       "      <td>столовая</td>\n",
       "      <td>Юго-Восточный административный округ</td>\n",
       "      <td>район Лефортово</td>\n",
       "      <td>город Москва, Авиамоторная улица, дом 8, строе...</td>\n",
       "      <td>Контактный телефон: (495) 273-89-78</td>\n",
       "      <td>120</td>\n",
       "      <td>нет</td>\n",
       "      <td>Геоданные: ↴\\nКоординаты: [\\n  37.715425391898...</td>\n",
       "      <td>637376536</td>\n",
       "    </tr>\n",
       "    <tr>\n",
       "      <th>7</th>\n",
       "      <td>Кафе Гогиели</td>\n",
       "      <td>нет</td>\n",
       "      <td>NaN</td>\n",
       "      <td>кафе</td>\n",
       "      <td>Юго-Восточный административный округ</td>\n",
       "      <td>район Лефортово</td>\n",
       "      <td>город Москва, Авиамоторная улица, дом 49/1</td>\n",
       "      <td>Контактный телефон: (495) 361-38-50</td>\n",
       "      <td>24</td>\n",
       "      <td>нет</td>\n",
       "      <td>Геоданные: ↴\\nКоординаты: [\\n  37.719950378859...</td>\n",
       "      <td>637376678</td>\n",
       "    </tr>\n",
       "    <tr>\n",
       "      <th>8</th>\n",
       "      <td>Алло Пицца</td>\n",
       "      <td>да</td>\n",
       "      <td>Алло Пицца</td>\n",
       "      <td>кафе</td>\n",
       "      <td>Новомосковский административный округ</td>\n",
       "      <td>поселение Щербинка</td>\n",
       "      <td>город Москва, улица Авиаторов, дом 14</td>\n",
       "      <td>Контактный телефон: (495) 934-31-00</td>\n",
       "      <td>32</td>\n",
       "      <td>нет</td>\n",
       "      <td>Геоданные: ↴\\nКоординаты: [\\n  37.533280862092...</td>\n",
       "      <td>637376719</td>\n",
       "    </tr>\n",
       "    <tr>\n",
       "      <th>9</th>\n",
       "      <td>Гимназия 1542</td>\n",
       "      <td>нет</td>\n",
       "      <td>NaN</td>\n",
       "      <td>столовая</td>\n",
       "      <td>Новомосковский административный округ</td>\n",
       "      <td>поселение Щербинка</td>\n",
       "      <td>город Москва, улица Авиаторов, дом 16</td>\n",
       "      <td>Контактный телефон: (495) 934-87-32</td>\n",
       "      <td>270</td>\n",
       "      <td>нет</td>\n",
       "      <td>Геоданные: ↴\\nКоординаты: [\\n  37.533839182416...</td>\n",
       "      <td>637376788</td>\n",
       "    </tr>\n",
       "  </tbody>\n",
       "</table>\n",
       "</div>"
      ],
      "text/plain": [
       "                                                Name IsNetObject  \\\n",
       "0                                            СМЕТАНА         нет   \n",
       "1                                             Родник         нет   \n",
       "2                                    Кафе «Академия»         нет   \n",
       "3  ГБОУ «Школа № 1430 имени Героя Социалистическо...         нет   \n",
       "4                                           Брусника          да   \n",
       "5                                        Буфет МТУСИ         нет   \n",
       "6                                     Столовая МТУСИ         нет   \n",
       "7                                       Кафе Гогиели         нет   \n",
       "8                                         Алло Пицца          да   \n",
       "9                                      Гимназия 1542         нет   \n",
       "\n",
       "  OperatingCompany TypeObject                                  AdmArea  \\\n",
       "0              NaN       кафе  Северо-Восточный административный округ   \n",
       "1              NaN       кафе       Центральный административный округ   \n",
       "2              NaN       кафе       Центральный административный округ   \n",
       "3              NaN   столовая  Северо-Восточный административный округ   \n",
       "4         Брусника       кафе       Центральный административный округ   \n",
       "5              NaN   столовая     Юго-Восточный административный округ   \n",
       "6              NaN   столовая     Юго-Восточный административный округ   \n",
       "7              NaN       кафе     Юго-Восточный административный округ   \n",
       "8       Алло Пицца       кафе    Новомосковский административный округ   \n",
       "9              NaN   столовая    Новомосковский административный округ   \n",
       "\n",
       "             District                                            Address  \\\n",
       "0   Ярославский район         город Москва, улица Егора Абакумова, дом 9   \n",
       "1     Таганский район  город Москва, улица Талалихина, дом 2/1, корпус 1   \n",
       "2     Таганский район          город Москва, Абельмановская улица, дом 6   \n",
       "3     район Лианозово              город Москва, Угличская улица, дом 17   \n",
       "4         район Арбат      город Москва, переулок Сивцев Вражек, дом 6/2   \n",
       "5     район Лефортово  город Москва, Авиамоторная улица, дом 8, строе...   \n",
       "6     район Лефортово  город Москва, Авиамоторная улица, дом 8, строе...   \n",
       "7     район Лефортово         город Москва, Авиамоторная улица, дом 49/1   \n",
       "8  поселение Щербинка              город Москва, улица Авиаторов, дом 14   \n",
       "9  поселение Щербинка              город Москва, улица Авиаторов, дом 16   \n",
       "\n",
       "                           PublicPhone  SeatsCount SocialPrivileges  \\\n",
       "0  Контактный телефон: (499) 183-14-10          48              нет   \n",
       "1  Контактный телефон: (495) 676-55-35          35              нет   \n",
       "2  Контактный телефон: (495) 662-30-10          95              нет   \n",
       "3  Контактный телефон: (499) 908-06-15         240              нет   \n",
       "4  Контактный телефон: (495) 697-04-89          10              нет   \n",
       "5  Контактный телефон: (495) 673-89-78          90              нет   \n",
       "6  Контактный телефон: (495) 273-89-78         120              нет   \n",
       "7  Контактный телефон: (495) 361-38-50          24              нет   \n",
       "8  Контактный телефон: (495) 934-31-00          32              нет   \n",
       "9  Контактный телефон: (495) 934-87-32         270              нет   \n",
       "\n",
       "                                             geoData  global_id  \n",
       "0  Геоданные: ↴\\nКоординаты: [\\n  37.714565000436...  637376221  \n",
       "1  Геоданные: ↴\\nКоординаты: [\\n  37.673306130034...  637376331  \n",
       "2  Геоданные: ↴\\nКоординаты: [\\n  37.669647596938...  637376349  \n",
       "3  Геоданные: ↴\\nКоординаты: [\\n  37.56694,\\n  55...  637376480  \n",
       "4  Геоданные: ↴\\nКоординаты: [\\n  37.59812754844,...  637376481  \n",
       "5  Геоданные: ↴\\nКоординаты: [\\n  37.715425391898...  637376500  \n",
       "6  Геоданные: ↴\\nКоординаты: [\\n  37.715425391898...  637376536  \n",
       "7  Геоданные: ↴\\nКоординаты: [\\n  37.719950378859...  637376678  \n",
       "8  Геоданные: ↴\\nКоординаты: [\\n  37.533280862092...  637376719  \n",
       "9  Геоданные: ↴\\nКоординаты: [\\n  37.533839182416...  637376788  "
      ]
     },
     "execution_count": 24,
     "metadata": {},
     "output_type": "execute_result"
    }
   ],
   "source": [
    "df.head(10)"
   ]
  },
  {
   "cell_type": "markdown",
   "id": "8b99b4f2",
   "metadata": {},
   "source": [
    "# Эксперимент №1 - Социальные привелегии"
   ]
  },
  {
   "cell_type": "markdown",
   "id": "2eb4905a",
   "metadata": {},
   "source": [
    " ### Давайте посмотрим, есть ли зависимость в выдаче социальных привелегий от типа заведения"
   ]
  },
  {
   "cell_type": "code",
   "execution_count": 25,
   "id": "40c6ed75",
   "metadata": {},
   "outputs": [],
   "source": [
    "XI = df[df['SocialPrivileges'].isin(['да'])]"
   ]
  },
  {
   "cell_type": "code",
   "execution_count": 26,
   "id": "55cf91b4",
   "metadata": {},
   "outputs": [],
   "source": [
    "X_set = set()\n",
    "Y_dict = dict()\n",
    "for line in XI['TypeObject']:\n",
    "    if line not in Y_dict:\n",
    "        Y_dict[line] = 1\n",
    "    else:\n",
    "        Y_dict[line] += 1\n",
    "    X_set.add(line)"
   ]
  },
  {
   "cell_type": "code",
   "execution_count": 27,
   "id": "126cbeb1",
   "metadata": {},
   "outputs": [
    {
     "data": {
      "text/plain": [
       "{'буфет',\n",
       " 'закусочная',\n",
       " 'кафе',\n",
       " 'кафетерий',\n",
       " 'предприятие быстрого обслуживания',\n",
       " 'ресторан',\n",
       " 'столовая'}"
      ]
     },
     "execution_count": 27,
     "metadata": {},
     "output_type": "execute_result"
    }
   ],
   "source": [
    "X_set"
   ]
  },
  {
   "cell_type": "code",
   "execution_count": 28,
   "id": "ff8a083b",
   "metadata": {},
   "outputs": [
    {
     "data": {
      "text/plain": [
       "{'столовая': 215,\n",
       " 'ресторан': 4,\n",
       " 'кафе': 23,\n",
       " 'буфет': 20,\n",
       " 'кафетерий': 2,\n",
       " 'предприятие быстрого обслуживания': 2,\n",
       " 'закусочная': 1}"
      ]
     },
     "execution_count": 28,
     "metadata": {},
     "output_type": "execute_result"
    }
   ],
   "source": [
    "Y_dict"
   ]
  },
  {
   "cell_type": "code",
   "execution_count": 29,
   "id": "509f7a02",
   "metadata": {},
   "outputs": [
    {
     "name": "stdout",
     "output_type": "stream",
     "text": [
      "[1, 2, 3, 4, 5, 6, 7]\n",
      "[1, 215, 20, 23, 4, 2, 2]\n"
     ]
    }
   ],
   "source": [
    "X = list()\n",
    "Y = list()\n",
    "LABELS = list()\n",
    "count = 0\n",
    "for i in X_set:\n",
    "    count += 1\n",
    "    X.append(count)\n",
    "    Y.append(Y_dict[i])\n",
    "    if i == 'предприятие быстрого обслуживания':\n",
    "        i = 'предприятие б.о.'\n",
    "    LABELS.append(i)\n",
    "print(X)\n",
    "print(Y)"
   ]
  },
  {
   "cell_type": "code",
   "execution_count": 30,
   "id": "f56bc8c3",
   "metadata": {},
   "outputs": [
    {
     "data": {
      "image/png": "[encoded data removed]",
      "text/plain": [
       "<Figure size 864x864 with 1 Axes>"
      ]
     },
     "metadata": {
      "needs_background": "light"
     },
     "output_type": "display_data"
    }
   ],
   "source": [
    "plt.figure(figsize = (12, 12))\n",
    "plt.bar(X, Y, color='red')\n",
    "plt.xticks(ticks = X, labels = LABELS)\n",
    "plt.title('XI социальный кредит хорошо Иван Тверь')\n",
    "plt.ylabel('Социальный кредит сколько')\n",
    "plt.xlabel('Заведение какой')\n",
    "plt.show()"
   ]
  },
  {
   "cell_type": "markdown",
   "id": "2a6f4b3d",
   "metadata": {},
   "source": [
    "### Хорошо, но давайте проверим общее количество всех заведений"
   ]
  },
  {
   "cell_type": "code",
   "execution_count": 31,
   "id": "c9e99f82",
   "metadata": {},
   "outputs": [
    {
     "name": "stdout",
     "output_type": "stream",
     "text": [
      "{'кафе': 6625, 'столовая': 2287, 'предприятие быстрого обслуживания': 2518, 'ресторан': 2297, 'кафетерий': 1009, 'буфет': 496, 'бар': 1133, 'закусочная': 474, 'магазин (отдел кулинарии)': 386}\n",
      "{'закусочная', 'столовая', 'бар', 'магазин (отдел кулинарии)', 'буфет', 'кафе', 'ресторан', 'кафетерий', 'предприятие быстрого обслуживания'}\n"
     ]
    }
   ],
   "source": [
    "X_set_all = set()\n",
    "Y_count_object = dict()\n",
    "for one in df['TypeObject']:\n",
    "    if one not in Y_count_object:\n",
    "        Y_count_object[one] = 1\n",
    "    else:\n",
    "        Y_count_object[one] += 1\n",
    "    X_set_all.add(one)\n",
    "print(Y_count_object)\n",
    "print(X_set_all)"
   ]
  },
  {
   "cell_type": "code",
   "execution_count": 32,
   "id": "3bc99705",
   "metadata": {},
   "outputs": [
    {
     "name": "stdout",
     "output_type": "stream",
     "text": [
      "[1, 2, 3, 4, 5, 6, 7, 8, 9]\n",
      "[474, 2287, 1133, 386, 496, 6625, 2297, 1009, 2518]\n"
     ]
    }
   ],
   "source": [
    "X = list()\n",
    "Y = list()\n",
    "LABELS = list()\n",
    "count = 0\n",
    "for i in X_set_all:\n",
    "    count += 1\n",
    "    X.append(count)\n",
    "    Y.append(Y_count_object[i])\n",
    "    if i == 'предприятие быстрого обслуживания':\n",
    "        i = 'предприятие б.о.'\n",
    "    LABELS.append(i)\n",
    "print(X)\n",
    "print(Y)"
   ]
  },
  {
   "cell_type": "code",
   "execution_count": 33,
   "id": "93438588",
   "metadata": {},
   "outputs": [
    {
     "data": {
      "image/png": "[encoded data removed]",
      "text/plain": [
       "<Figure size 1080x1080 with 1 Axes>"
      ]
     },
     "metadata": {
      "needs_background": "light"
     },
     "output_type": "display_data"
    }
   ],
   "source": [
    "plt.figure(figsize = (15, 15))\n",
    "plt.bar(X, Y)\n",
    "plt.xticks(ticks = X, labels = LABELS)\n",
    "plt.title('Зависимость количества заведений от их типа')\n",
    "plt.ylabel('Количество заведений')\n",
    "plt.xlabel('Тип заведений')\n",
    "plt.show()"
   ]
  },
  {
   "cell_type": "markdown",
   "id": "31c74e33",
   "metadata": {},
   "source": [
    "### И на десерт - посмотрим на процентное соотношение заведений, которые имеют социальные привелегии"
   ]
  },
  {
   "cell_type": "code",
   "execution_count": 44,
   "id": "efe6be62",
   "metadata": {},
   "outputs": [
    {
     "name": "stdout",
     "output_type": "stream",
     "text": [
      "[1, 2, 3, 4, 5, 6, 7]\n",
      "['закусочная', 'столовая', 'буфет', 'кафе', 'ресторан', 'кафетерий', 'предприятие б.о.']\n",
      "[0.21097046413502107, 9.40096195889812, 4.032258064516129, 0.3471698113207547, 0.174140182847192, 0.19821605550049554, 0.07942811755361398]\n"
     ]
    }
   ],
   "source": [
    "X = list()\n",
    "Y = list()\n",
    "LABELS = list()\n",
    "count = 0\n",
    "for i in X_set:\n",
    "    count += 1\n",
    "    X.append(count)\n",
    "    number = Y_dict[i] / Y_count_object[i] * 100\n",
    "    Y.append(number)\n",
    "    if i == 'предприятие быстрого обслуживания':\n",
    "        i = 'предприятие б.о.'\n",
    "    LABELS.append(i)\n",
    "print(X)\n",
    "print(LABELS)\n",
    "print(Y)"
   ]
  },
  {
   "cell_type": "code",
   "execution_count": 48,
   "id": "253e6b1a",
   "metadata": {},
   "outputs": [
    {
     "data": {
      "image/png": "[encoded data removed]",
      "text/plain": [
       "<Figure size 1080x1080 with 1 Axes>"
      ]
     },
     "metadata": {
      "needs_background": "light"
     },
     "output_type": "display_data"
    }
   ],
   "source": [
    "plt.figure(figsize = (15, 15))\n",
    "plt.bar(X, Y, color='purple')\n",
    "plt.xticks(ticks = X, labels = LABELS)\n",
    "plt.title('Процентное соотношение заведений с социальными привелегиями в зависимости от типа заведения')\n",
    "plt.ylabel('Процент заведений с социальными привелегиями')\n",
    "plt.xlabel('Тип заведений')\n",
    "plt.show()"
   ]
  },
  {
   "cell_type": "markdown",
   "id": "433e1935",
   "metadata": {},
   "source": [
    "### К Р У Т О Т А"
   ]
  },
  {
   "cell_type": "markdown",
   "id": "ff8a3f8f",
   "metadata": {},
   "source": [
    "# Эксперимент №2 - Зависимость количества посадочных мест от типа заведения"
   ]
  },
  {
   "cell_type": "code",
   "execution_count": 34,
   "id": "980f7842",
   "metadata": {},
   "outputs": [
    {
     "name": "stdout",
     "output_type": "stream",
     "text": [
      "{'закусочная', 'столовая', 'бар', 'магазин (отдел кулинарии)', 'буфет', 'кафе', 'ресторан', 'кафетерий', 'предприятие быстрого обслуживания'}\n"
     ]
    }
   ],
   "source": [
    "print(X_set_all)"
   ]
  },
  {
   "cell_type": "code",
   "execution_count": 35,
   "id": "f210e461",
   "metadata": {},
   "outputs": [
    {
     "data": {
      "image/png": "[encoded data removed]",
      "text/plain": [
       "<Figure size 1440x1008 with 1 Axes>"
      ]
     },
     "metadata": {
      "needs_background": "light"
     },
     "output_type": "display_data"
    }
   ],
   "source": [
    "plt.figure(figsize = (20, 14))\n",
    "sns.boxplot(x='TypeObject', y='SeatsCount', data=df)\n",
    "plt.ylim(0, 1000)\n",
    "plt.title('Зависимость количества посадочных мест от типа заведения')\n",
    "plt.ylabel('Количество посадочных мест')\n",
    "plt.xlabel('Тип заведения');"
   ]
  },
  {
   "cell_type": "code",
   "execution_count": null,
   "id": "f8c1f7fd",
   "metadata": {},
   "outputs": [],
   "source": []
  }
 ],
 "metadata": {
  "kernelspec": {
   "display_name": "Python 3",
   "language": "python",
   "name": "python3"
  },
  "language_info": {
   "codemirror_mode": {
    "name": "ipython",
    "version": 3
   },
   "file_extension": ".py",
   "mimetype": "text/x-python",
   "name": "python",
   "nbconvert_exporter": "python",
   "pygments_lexer": "ipython3",
   "version": "3.9.5"
  }
 },
 "nbformat": 4,
 "nbformat_minor": 5
}
