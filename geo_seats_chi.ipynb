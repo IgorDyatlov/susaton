{
 "cells": [
  {
   "cell_type": "markdown",
   "metadata": {},
   "source": [
    "##### Импорт и установка необходимых пакетов и модулей"
   ]
  },
  {
   "cell_type": "code",
   "execution_count": 1,
   "metadata": {},
   "outputs": [
    {
     "name": "stdout",
     "output_type": "stream",
     "text": [
      "Requirement already satisfied: openpyxl in c:\\users\\anton\\anaconda3\\lib\\site-packages (3.0.4)\n",
      "Requirement already satisfied: jdcal in c:\\users\\anton\\anaconda3\\lib\\site-packages (from openpyxl) (1.4.1)\n",
      "Requirement already satisfied: et-xmlfile in c:\\users\\anton\\anaconda3\\lib\\site-packages (from openpyxl) (1.0.1)\n"
     ]
    }
   ],
   "source": [
    "!pip install openpyxl"
   ]
  },
  {
   "cell_type": "code",
   "execution_count": 3,
   "metadata": {},
   "outputs": [
    {
     "name": "stdout",
     "output_type": "stream",
     "text": [
      "Requirement already satisfied: pandas in c:\\users\\anton\\anaconda3\\lib\\site-packages (1.0.5)\n",
      "Requirement already satisfied: pytz>=2017.2 in c:\\users\\anton\\anaconda3\\lib\\site-packages (from pandas) (2020.1)\n",
      "Requirement already satisfied: python-dateutil>=2.6.1 in c:\\users\\anton\\anaconda3\\lib\\site-packages (from pandas) (2.8.1)\n",
      "Requirement already satisfied: numpy>=1.13.3 in c:\\users\\anton\\anaconda3\\lib\\site-packages (from pandas) (1.18.5)\n",
      "Requirement already satisfied: six>=1.5 in c:\\users\\anton\\anaconda3\\lib\\site-packages (from python-dateutil>=2.6.1->pandas) (1.15.0)\n"
     ]
    }
   ],
   "source": [
    "!pip install pandas"
   ]
  },
  {
   "cell_type": "code",
   "execution_count": 106,
   "metadata": {},
   "outputs": [],
   "source": [
    "import pandas as pd\n",
    "import re\n",
    "import math\n",
    "from scipy.stats import chi2_contingency \n",
    "import matplotlib.pyplot as plt\n",
    "%matplotlib inline"
   ]
  },
  {
   "cell_type": "markdown",
   "metadata": {},
   "source": [
    "##### Координаты Кремля (Путин, помоги)"
   ]
  },
  {
   "cell_type": "code",
   "execution_count": 107,
   "metadata": {},
   "outputs": [],
   "source": [
    "kremlin_long = 37.628286\n",
    "kremlin_lat = 55.760156"
   ]
  },
  {
   "cell_type": "markdown",
   "metadata": {},
   "source": [
    "##### Чтение файла"
   ]
  },
  {
   "cell_type": "code",
   "execution_count": 108,
   "metadata": {},
   "outputs": [],
   "source": [
    "df_food = pd.read_excel('Общественное питание в Москве.xlsx', encoding = 'utf-8')"
   ]
  },
  {
   "cell_type": "code",
   "execution_count": 109,
   "metadata": {},
   "outputs": [
    {
     "data": {
      "text/html": [
       "<div>\n",
       "<style scoped>\n",
       "    .dataframe tbody tr th:only-of-type {\n",
       "        vertical-align: middle;\n",
       "    }\n",
       "\n",
       "    .dataframe tbody tr th {\n",
       "        vertical-align: top;\n",
       "    }\n",
       "\n",
       "    .dataframe thead th {\n",
       "        text-align: right;\n",
       "    }\n",
       "</style>\n",
       "<table border=\"1\" class=\"dataframe\">\n",
       "  <thead>\n",
       "    <tr style=\"text-align: right;\">\n",
       "      <th></th>\n",
       "      <th>Name</th>\n",
       "      <th>IsNetObject</th>\n",
       "      <th>OperatingCompany</th>\n",
       "      <th>TypeObject</th>\n",
       "      <th>AdmArea</th>\n",
       "      <th>District</th>\n",
       "      <th>Address</th>\n",
       "      <th>PublicPhone</th>\n",
       "      <th>SeatsCount</th>\n",
       "      <th>SocialPrivileges</th>\n",
       "      <th>geoData</th>\n",
       "      <th>global_id</th>\n",
       "    </tr>\n",
       "  </thead>\n",
       "  <tbody>\n",
       "    <tr>\n",
       "      <th>0</th>\n",
       "      <td>СМЕТАНА</td>\n",
       "      <td>нет</td>\n",
       "      <td>NaN</td>\n",
       "      <td>кафе</td>\n",
       "      <td>Северо-Восточный административный округ</td>\n",
       "      <td>Ярославский район</td>\n",
       "      <td>город Москва, улица Егора Абакумова, дом 9</td>\n",
       "      <td>Контактный телефон: (499) 183-14-10</td>\n",
       "      <td>48</td>\n",
       "      <td>нет</td>\n",
       "      <td>Геоданные: ↴\\nКоординаты: [\\n  37.714565000436...</td>\n",
       "      <td>637376221</td>\n",
       "    </tr>\n",
       "    <tr>\n",
       "      <th>1</th>\n",
       "      <td>Родник</td>\n",
       "      <td>нет</td>\n",
       "      <td>NaN</td>\n",
       "      <td>кафе</td>\n",
       "      <td>Центральный административный округ</td>\n",
       "      <td>Таганский район</td>\n",
       "      <td>город Москва, улица Талалихина, дом 2/1, корпус 1</td>\n",
       "      <td>Контактный телефон: (495) 676-55-35</td>\n",
       "      <td>35</td>\n",
       "      <td>нет</td>\n",
       "      <td>Геоданные: ↴\\nКоординаты: [\\n  37.673306130034...</td>\n",
       "      <td>637376331</td>\n",
       "    </tr>\n",
       "    <tr>\n",
       "      <th>2</th>\n",
       "      <td>Кафе «Академия»</td>\n",
       "      <td>нет</td>\n",
       "      <td>NaN</td>\n",
       "      <td>кафе</td>\n",
       "      <td>Центральный административный округ</td>\n",
       "      <td>Таганский район</td>\n",
       "      <td>город Москва, Абельмановская улица, дом 6</td>\n",
       "      <td>Контактный телефон: (495) 662-30-10</td>\n",
       "      <td>95</td>\n",
       "      <td>нет</td>\n",
       "      <td>Геоданные: ↴\\nКоординаты: [\\n  37.669647596938...</td>\n",
       "      <td>637376349</td>\n",
       "    </tr>\n",
       "    <tr>\n",
       "      <th>3</th>\n",
       "      <td>ГБОУ «Школа № 1430 имени Героя Социалистическо...</td>\n",
       "      <td>нет</td>\n",
       "      <td>NaN</td>\n",
       "      <td>столовая</td>\n",
       "      <td>Северо-Восточный административный округ</td>\n",
       "      <td>район Лианозово</td>\n",
       "      <td>город Москва, Угличская улица, дом 17</td>\n",
       "      <td>Контактный телефон: (499) 908-06-15</td>\n",
       "      <td>240</td>\n",
       "      <td>нет</td>\n",
       "      <td>Геоданные: ↴\\nКоординаты: [\\n  37.56694,\\n  55...</td>\n",
       "      <td>637376480</td>\n",
       "    </tr>\n",
       "    <tr>\n",
       "      <th>4</th>\n",
       "      <td>Брусника</td>\n",
       "      <td>да</td>\n",
       "      <td>Брусника</td>\n",
       "      <td>кафе</td>\n",
       "      <td>Центральный административный округ</td>\n",
       "      <td>район Арбат</td>\n",
       "      <td>город Москва, переулок Сивцев Вражек, дом 6/2</td>\n",
       "      <td>Контактный телефон: (495) 697-04-89</td>\n",
       "      <td>10</td>\n",
       "      <td>нет</td>\n",
       "      <td>Геоданные: ↴\\nКоординаты: [\\n  37.59812754844,...</td>\n",
       "      <td>637376481</td>\n",
       "    </tr>\n",
       "    <tr>\n",
       "      <th>...</th>\n",
       "      <td>...</td>\n",
       "      <td>...</td>\n",
       "      <td>...</td>\n",
       "      <td>...</td>\n",
       "      <td>...</td>\n",
       "      <td>...</td>\n",
       "      <td>...</td>\n",
       "      <td>...</td>\n",
       "      <td>...</td>\n",
       "      <td>...</td>\n",
       "      <td>...</td>\n",
       "      <td>...</td>\n",
       "    </tr>\n",
       "    <tr>\n",
       "      <th>17220</th>\n",
       "      <td>Суши</td>\n",
       "      <td>нет</td>\n",
       "      <td>NaN</td>\n",
       "      <td>магазин (отдел кулинарии)</td>\n",
       "      <td>Восточный административный округ</td>\n",
       "      <td>район Измайлово</td>\n",
       "      <td>Российская Федерация, город Москва, внутригоро...</td>\n",
       "      <td>Контактный телефон: (925) 195-18-19</td>\n",
       "      <td>0</td>\n",
       "      <td>нет</td>\n",
       "      <td>Геоданные: ↴\\nКоординаты: [\\n  37.782898134930...</td>\n",
       "      <td>1111677810</td>\n",
       "    </tr>\n",
       "    <tr>\n",
       "      <th>17221</th>\n",
       "      <td>Ресторан «Аист»</td>\n",
       "      <td>нет</td>\n",
       "      <td>NaN</td>\n",
       "      <td>ресторан</td>\n",
       "      <td>Центральный административный округ</td>\n",
       "      <td>Пресненский район</td>\n",
       "      <td>город Москва, Малая Бронная улица, дом 8, стро...</td>\n",
       "      <td>Контактный телефон: (499) 940-70-40</td>\n",
       "      <td>200</td>\n",
       "      <td>нет</td>\n",
       "      <td>Геоданные: ↴\\nКоординаты: [\\n  37.596924999999...</td>\n",
       "      <td>1111678199</td>\n",
       "    </tr>\n",
       "    <tr>\n",
       "      <th>17222</th>\n",
       "      <td>Суши Wok</td>\n",
       "      <td>да</td>\n",
       "      <td>Суши Wok</td>\n",
       "      <td>кафе</td>\n",
       "      <td>Юго-Западный административный округ</td>\n",
       "      <td>район Южное Бутово</td>\n",
       "      <td>город Москва, Скобелевская улица, дом 19</td>\n",
       "      <td>Контактный телефон: (499) 754-44-44</td>\n",
       "      <td>22</td>\n",
       "      <td>нет</td>\n",
       "      <td>Геоданные: ↴\\nКоординаты: [\\n  37.556331,\\n  5...</td>\n",
       "      <td>1111678251</td>\n",
       "    </tr>\n",
       "    <tr>\n",
       "      <th>17223</th>\n",
       "      <td>Теремок</td>\n",
       "      <td>да</td>\n",
       "      <td>Теремок</td>\n",
       "      <td>предприятие быстрого обслуживания</td>\n",
       "      <td>Южный административный округ</td>\n",
       "      <td>Даниловский район</td>\n",
       "      <td>город Москва, улица Ленинская Слобода, дом 17</td>\n",
       "      <td>Контактный телефон: нет телефона</td>\n",
       "      <td>48</td>\n",
       "      <td>нет</td>\n",
       "      <td>Геоданные: ↴\\nКоординаты: [\\n  37.657186,\\n  5...</td>\n",
       "      <td>1111678371</td>\n",
       "    </tr>\n",
       "    <tr>\n",
       "      <th>17224</th>\n",
       "      <td>Дабл Би</td>\n",
       "      <td>да</td>\n",
       "      <td>Дабл Би</td>\n",
       "      <td>кафетерий</td>\n",
       "      <td>Центральный административный округ</td>\n",
       "      <td>Тверской район</td>\n",
       "      <td>город Москва, Весковский переулок, дом 3</td>\n",
       "      <td>Контактный телефон: (800) 350-24-64</td>\n",
       "      <td>16</td>\n",
       "      <td>нет</td>\n",
       "      <td>Геоданные: ↴\\nКоординаты: [\\n  37.598553,\\n  5...</td>\n",
       "      <td>1111678384</td>\n",
       "    </tr>\n",
       "  </tbody>\n",
       "</table>\n",
       "<p>17225 rows × 12 columns</p>\n",
       "</div>"
      ],
      "text/plain": [
       "                                                    Name IsNetObject  \\\n",
       "0                                                СМЕТАНА         нет   \n",
       "1                                                 Родник         нет   \n",
       "2                                        Кафе «Академия»         нет   \n",
       "3      ГБОУ «Школа № 1430 имени Героя Социалистическо...         нет   \n",
       "4                                               Брусника          да   \n",
       "...                                                  ...         ...   \n",
       "17220                                               Суши         нет   \n",
       "17221                                    Ресторан «Аист»         нет   \n",
       "17222                                           Суши Wok          да   \n",
       "17223                                            Теремок          да   \n",
       "17224                                            Дабл Би          да   \n",
       "\n",
       "      OperatingCompany                         TypeObject  \\\n",
       "0                  NaN                               кафе   \n",
       "1                  NaN                               кафе   \n",
       "2                  NaN                               кафе   \n",
       "3                  NaN                           столовая   \n",
       "4             Брусника                               кафе   \n",
       "...                ...                                ...   \n",
       "17220              NaN          магазин (отдел кулинарии)   \n",
       "17221              NaN                           ресторан   \n",
       "17222         Суши Wok                               кафе   \n",
       "17223          Теремок  предприятие быстрого обслуживания   \n",
       "17224          Дабл Би                          кафетерий   \n",
       "\n",
       "                                       AdmArea            District  \\\n",
       "0      Северо-Восточный административный округ   Ярославский район   \n",
       "1           Центральный административный округ     Таганский район   \n",
       "2           Центральный административный округ     Таганский район   \n",
       "3      Северо-Восточный административный округ     район Лианозово   \n",
       "4           Центральный административный округ         район Арбат   \n",
       "...                                        ...                 ...   \n",
       "17220         Восточный административный округ     район Измайлово   \n",
       "17221       Центральный административный округ   Пресненский район   \n",
       "17222      Юго-Западный административный округ  район Южное Бутово   \n",
       "17223             Южный административный округ   Даниловский район   \n",
       "17224       Центральный административный округ      Тверской район   \n",
       "\n",
       "                                                 Address  \\\n",
       "0             город Москва, улица Егора Абакумова, дом 9   \n",
       "1      город Москва, улица Талалихина, дом 2/1, корпус 1   \n",
       "2              город Москва, Абельмановская улица, дом 6   \n",
       "3                  город Москва, Угличская улица, дом 17   \n",
       "4          город Москва, переулок Сивцев Вражек, дом 6/2   \n",
       "...                                                  ...   \n",
       "17220  Российская Федерация, город Москва, внутригоро...   \n",
       "17221  город Москва, Малая Бронная улица, дом 8, стро...   \n",
       "17222           город Москва, Скобелевская улица, дом 19   \n",
       "17223      город Москва, улица Ленинская Слобода, дом 17   \n",
       "17224           город Москва, Весковский переулок, дом 3   \n",
       "\n",
       "                               PublicPhone  SeatsCount SocialPrivileges  \\\n",
       "0      Контактный телефон: (499) 183-14-10          48              нет   \n",
       "1      Контактный телефон: (495) 676-55-35          35              нет   \n",
       "2      Контактный телефон: (495) 662-30-10          95              нет   \n",
       "3      Контактный телефон: (499) 908-06-15         240              нет   \n",
       "4      Контактный телефон: (495) 697-04-89          10              нет   \n",
       "...                                    ...         ...              ...   \n",
       "17220  Контактный телефон: (925) 195-18-19           0              нет   \n",
       "17221  Контактный телефон: (499) 940-70-40         200              нет   \n",
       "17222  Контактный телефон: (499) 754-44-44          22              нет   \n",
       "17223     Контактный телефон: нет телефона          48              нет   \n",
       "17224  Контактный телефон: (800) 350-24-64          16              нет   \n",
       "\n",
       "                                                 geoData   global_id  \n",
       "0      Геоданные: ↴\\nКоординаты: [\\n  37.714565000436...   637376221  \n",
       "1      Геоданные: ↴\\nКоординаты: [\\n  37.673306130034...   637376331  \n",
       "2      Геоданные: ↴\\nКоординаты: [\\n  37.669647596938...   637376349  \n",
       "3      Геоданные: ↴\\nКоординаты: [\\n  37.56694,\\n  55...   637376480  \n",
       "4      Геоданные: ↴\\nКоординаты: [\\n  37.59812754844,...   637376481  \n",
       "...                                                  ...         ...  \n",
       "17220  Геоданные: ↴\\nКоординаты: [\\n  37.782898134930...  1111677810  \n",
       "17221  Геоданные: ↴\\nКоординаты: [\\n  37.596924999999...  1111678199  \n",
       "17222  Геоданные: ↴\\nКоординаты: [\\n  37.556331,\\n  5...  1111678251  \n",
       "17223  Геоданные: ↴\\nКоординаты: [\\n  37.657186,\\n  5...  1111678371  \n",
       "17224  Геоданные: ↴\\nКоординаты: [\\n  37.598553,\\n  5...  1111678384  \n",
       "\n",
       "[17225 rows x 12 columns]"
      ]
     },
     "execution_count": 109,
     "metadata": {},
     "output_type": "execute_result"
    }
   ],
   "source": [
    "df_food"
   ]
  },
  {
   "cell_type": "code",
   "execution_count": 110,
   "metadata": {},
   "outputs": [
    {
     "data": {
      "text/plain": [
       "0        Геоданные: ↴\\nКоординаты: [\\n  37.714565000436...\n",
       "1        Геоданные: ↴\\nКоординаты: [\\n  37.673306130034...\n",
       "2        Геоданные: ↴\\nКоординаты: [\\n  37.669647596938...\n",
       "3        Геоданные: ↴\\nКоординаты: [\\n  37.56694,\\n  55...\n",
       "4        Геоданные: ↴\\nКоординаты: [\\n  37.59812754844,...\n",
       "                               ...                        \n",
       "17220    Геоданные: ↴\\nКоординаты: [\\n  37.782898134930...\n",
       "17221    Геоданные: ↴\\nКоординаты: [\\n  37.596924999999...\n",
       "17222    Геоданные: ↴\\nКоординаты: [\\n  37.556331,\\n  5...\n",
       "17223    Геоданные: ↴\\nКоординаты: [\\n  37.657186,\\n  5...\n",
       "17224    Геоданные: ↴\\nКоординаты: [\\n  37.598553,\\n  5...\n",
       "Name: geoData, Length: 17225, dtype: object"
      ]
     },
     "execution_count": 110,
     "metadata": {},
     "output_type": "execute_result"
    }
   ],
   "source": [
    "df_geo = df_food[\"geoData\"]\n",
    "df_geo"
   ]
  },
  {
   "cell_type": "markdown",
   "metadata": {},
   "source": [
    "##### Рассчёт расстояния между заведениями и Кремлём\n",
    "Формула: sqrt((|широта Кремля|-|широта заведения|)^2 + (|долгота Кремля|-|долгота заведения|)^2)\n",
    "\n",
    "Модуль на каждой координате - если мы вдруг захотим вместо Кремля взять Статую Христа Искупителя в Рио-Де-Жанейро и заведения рассматривать захотим тоже в Рио.\n",
    "\n",
    "Квадраты и корни - Теорема Пифагора. \n",
    "\n",
    "Отличие от реальности - рассчёт в градусах, а не в километрах, погрешности из-за того, что Земля - шар, однако в исследовании нет сравнения с реальными числами, поэтому погрешность нерелевантна"
   ]
  },
  {
   "cell_type": "code",
   "execution_count": 111,
   "metadata": {},
   "outputs": [],
   "source": [
    "distance_kremlin_all = []\n",
    "for df_geo_value in df_geo:\n",
    "    place_coord = re.findall('[0-9]{2}\\.*[0-9]*', df_geo_value)\n",
    "    long_of_kremlin = math.fabs(kremlin_long)-math.fabs(float(place_coord[0]))\n",
    "    lat_of_kremlin = math.fabs(kremlin_lat)-math.fabs(float(place_coord[1]))\n",
    "    distance = math.sqrt(long_of_kremlin**2+lat_of_kremlin**2)\n",
    "    distance_kremlin_all.append(distance)"
   ]
  },
  {
   "cell_type": "markdown",
   "metadata": {},
   "source": [
    "##### distance = близость от Кремля (в градусах)"
   ]
  },
  {
   "cell_type": "code",
   "execution_count": 112,
   "metadata": {},
   "outputs": [],
   "source": [
    "seats_all = []\n",
    "for df_seats in df_food[\"SeatsCount\"]:\n",
    "    seats_all.append(df_seats)"
   ]
  },
  {
   "cell_type": "markdown",
   "metadata": {},
   "source": [
    "##### Рассчёт расстояния между заведениями и Кремлём\n",
    "\n",
    "Мы решили не рассматривать заведения без посадочных мест, а также те заведения, где посадочных мест было мало."
   ]
  },
  {
   "cell_type": "code",
   "execution_count": 114,
   "metadata": {},
   "outputs": [],
   "source": [
    "data_distance = [distance_kremlin_all, seats_all]\n",
    "counter = 0\n",
    "for seat in data_distance[1]:\n",
    "    counter+=1\n",
    "    if seat <= 5:\n",
    "        seats_all.remove(seats_all[counter])\n",
    "        distance_kremlin_all.remove(distance_kremlin_all[counter])\n"
   ]
  },
  {
   "cell_type": "markdown",
   "metadata": {},
   "source": [
    "##### Применяем χ^2 \n",
    "\n",
    "Нулевая гипотеза: есть связь между количеством мест в заведении и дальностью от Кремля"
   ]
  },
  {
   "cell_type": "code",
   "execution_count": 115,
   "metadata": {},
   "outputs": [
    {
     "name": "stdout",
     "output_type": "stream",
     "text": [
      "p value for α=0.01: 0.0\n",
      "p value for α=0.05: 0.0\n",
      "Null Hypothesis Is Not Confirmed\n"
     ]
    }
   ],
   "source": [
    "chi, p, dof, expected = chi2_contingency(data_distance)\n",
    "significance_level = [0.01, 0.05]\n",
    "significance = 0\n",
    "for level_test in significance_level:\n",
    "    print('p value for α=' + str(level_test) + ': ' + str(p)) \n",
    "    if p <= sign_level: \n",
    "        significance += 1\n",
    "if significance == 2:\n",
    "    print('Null Hypothesis Is Not Confirmed')\n",
    "elif significance == 0:\n",
    "    print ('Null Hypothesis Is Accepted')\n",
    "else:\n",
    "    print('Null Hypothesis Is Accepted For α=0.05, Not Confirmed For α=0.01')"
   ]
  },
  {
   "cell_type": "markdown",
   "metadata": {},
   "source": [
    "##### Гипотеза не подтвердилась"
   ]
  },
  {
   "cell_type": "code",
   "execution_count": null,
   "metadata": {},
   "outputs": [],
   "source": []
  }
 ],
 "metadata": {
  "kernelspec": {
   "display_name": "Python 3",
   "language": "python",
   "name": "python3"
  }
 },
 "nbformat": 4,
 "nbformat_minor": 4
}
